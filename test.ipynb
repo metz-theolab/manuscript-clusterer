{
 "cells": [
  {
   "cell_type": "code",
   "execution_count": null,
   "metadata": {},
   "outputs": [],
   "source": [
    "# Perform utilities work"
   ]
  },
  {
   "cell_type": "code",
   "execution_count": 4,
   "metadata": {},
   "outputs": [],
   "source": [
    "from manuscript_clusterer.api.database.db_manipulator import ManuscriptDB\n",
    "\n",
    "\n",
    "manuscript_db = ManuscriptDB()\n",
    "\n",
    "manuscripts = manuscript_db.get_manuscripts()\n",
    "\n",
    "manuscript_list = [manuscript[\"id\"] for manuscript in manuscripts]\n"
   ]
  },
  {
   "cell_type": "code",
   "execution_count": 9,
   "metadata": {},
   "outputs": [],
   "source": [
    "import pandas as pd\n",
    "\n",
    "info_data = pd.read_csv(\"src/manuscript_clusterer/api/database/datasets/classification.csv\", index_col=0)"
   ]
  },
  {
   "cell_type": "code",
   "execution_count": null,
   "metadata": {},
   "outputs": [],
   "source": []
  },
  {
   "cell_type": "code",
   "execution_count": 11,
   "metadata": {},
   "outputs": [
    {
     "data": {
      "text/plain": [
       "{'20001': {'name': 'Sinaïticus',\n",
       "  'wisse': nan,\n",
       "  'von-soden': nan,\n",
       "  'text-type': 'alexandrinian',\n",
       "  'aland-cat': 'I',\n",
       "  'date': 4},\n",
       " '20002': {'name': 'Alexandrinus',\n",
       "  'wisse': nan,\n",
       "  'von-soden': 'Pi',\n",
       "  'text-type': 'byzantine',\n",
       "  'aland-cat': 'III',\n",
       "  'date': 5},\n",
       " '20003': {'name': 'Vaticanus',\n",
       "  'wisse': 'B',\n",
       "  'von-soden': 'H',\n",
       "  'text-type': 'alexandrinian',\n",
       "  'aland-cat': 'I',\n",
       "  'date': 4},\n",
       " '20004': {'name': 'Ephraemi Rescriptus',\n",
       "  'wisse': nan,\n",
       "  'von-soden': 'C',\n",
       "  'text-type': 'alexandrinian',\n",
       "  'aland-cat': 'II',\n",
       "  'date': 5},\n",
       " '20005': {'name': 'Bezae',\n",
       "  'wisse': 'B',\n",
       "  'von-soden': 'Ia',\n",
       "  'text-type': 'western',\n",
       "  'aland-cat': 'IV',\n",
       "  'date': 5},\n",
       " '20019': {'name': 'Regius',\n",
       "  'wisse': nan,\n",
       "  'von-soden': nan,\n",
       "  'text-type': 'alexandrinian',\n",
       "  'aland-cat': 'II',\n",
       "  'date': 8},\n",
       " '20032': {'name': 'Washingtonianus',\n",
       "  'wisse': nan,\n",
       "  'von-soden': nan,\n",
       "  'text-type': 'alexandrinian',\n",
       "  'aland-cat': 'III',\n",
       "  'date': 5},\n",
       " '20038': {'name': 'Coridethianus',\n",
       "  'wisse': nan,\n",
       "  'von-soden': nan,\n",
       "  'text-type': 'byzantine',\n",
       "  'aland-cat': 'II',\n",
       "  'date': 5},\n",
       " '30001': {'name': 'Basilensis',\n",
       "  'wisse': nan,\n",
       "  'von-soden': nan,\n",
       "  'text-type': 'caesarean',\n",
       "  'aland-cat': 'III',\n",
       "  'date': 12},\n",
       " '30013': {'name': 'MS13',\n",
       "  'wisse': nan,\n",
       "  'von-soden': nan,\n",
       "  'text-type': 'caesarean',\n",
       "  'aland-cat': 'III',\n",
       "  'date': 13},\n",
       " '30018': {'name': 'MS18',\n",
       "  'wisse': nan,\n",
       "  'von-soden': nan,\n",
       "  'text-type': 'byzantine',\n",
       "  'aland-cat': 'V',\n",
       "  'date': 14},\n",
       " '30022': {'name': 'MS22',\n",
       "  'wisse': '22b',\n",
       "  'von-soden': nan,\n",
       "  'text-type': 'ceasarean',\n",
       "  'aland-cat': '?',\n",
       "  'date': 12},\n",
       " '30033': {'name': 'MS33',\n",
       "  'wisse': nan,\n",
       "  'von-soden': nan,\n",
       "  'text-type': 'alexandrian',\n",
       "  'aland-cat': 'I',\n",
       "  'date': 9},\n",
       " '30069': {'name': 'MS69',\n",
       "  'wisse': 'f13',\n",
       "  'von-soden': nan,\n",
       "  'text-type': 'ceasarean',\n",
       "  'aland-cat': 'III',\n",
       "  'date': 15},\n",
       " '30079': {'name': 'MS79',\n",
       "  'wisse': 'Kx',\n",
       "  'von-soden': nan,\n",
       "  'text-type': 'byzantine/mixed',\n",
       "  'aland-cat': '?',\n",
       "  'date': 15},\n",
       " '30343': {'name': 'MS343',\n",
       "  'wisse': '343',\n",
       "  'von-soden': 'Kx',\n",
       "  'text-type': 'byzantine',\n",
       "  'aland-cat': 'V',\n",
       "  'date': 11},\n",
       " '100P4': {'name': 'P4',\n",
       "  'wisse': nan,\n",
       "  'von-soden': nan,\n",
       "  'text-type': 'alexandrian',\n",
       "  'aland-cat': 'I',\n",
       "  'date': 3},\n",
       " '10P42': {'name': 'P42',\n",
       "  'wisse': nan,\n",
       "  'von-soden': nan,\n",
       "  'text-type': 'alexandrian',\n",
       "  'aland-cat': 'II',\n",
       "  'date': 7}}"
      ]
     },
     "execution_count": 11,
     "metadata": {},
     "output_type": "execute_result"
    }
   ],
   "source": [
    "info_data.to_dict(orient=\"index\")"
   ]
  },
  {
   "cell_type": "code",
   "execution_count": null,
   "metadata": {},
   "outputs": [],
   "source": []
  },
  {
   "cell_type": "code",
   "execution_count": null,
   "metadata": {},
   "outputs": [],
   "source": []
  }
 ],
 "metadata": {
  "kernelspec": {
   "display_name": "venv",
   "language": "python",
   "name": "python3"
  },
  "language_info": {
   "codemirror_mode": {
    "name": "ipython",
    "version": 3
   },
   "file_extension": ".py",
   "mimetype": "text/x-python",
   "name": "python",
   "nbconvert_exporter": "python",
   "pygments_lexer": "ipython3",
   "version": "3.12.7"
  }
 },
 "nbformat": 4,
 "nbformat_minor": 2
}
